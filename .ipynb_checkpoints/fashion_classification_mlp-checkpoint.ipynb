{
 "cells": [
  {
   "cell_type": "code",
   "execution_count": null,
   "metadata": {},
   "outputs": [],
   "source": [
    "# Using sequential API to build, train, evaluate, and use classification MLP"
   ]
  },
  {
   "cell_type": "code",
   "execution_count": 3,
   "metadata": {},
   "outputs": [
    {
     "data": {
      "text/plain": [
       "'2.3.0'"
      ]
     },
     "execution_count": 3,
     "metadata": {},
     "output_type": "execute_result"
    }
   ],
   "source": [
    "import tensorflow as tf\n",
    "from tensorflow import keras\n",
    "tf.__version__\n"
   ]
  },
  {
   "cell_type": "code",
   "execution_count": 5,
   "metadata": {},
   "outputs": [
    {
     "name": "stdout",
     "output_type": "stream",
     "text": [
      "Downloading data from https://storage.googleapis.com/tensorflow/tf-keras-datasets/train-labels-idx1-ubyte.gz\n",
      "32768/29515 [=================================] - 0s 1us/step\n",
      "Downloading data from https://storage.googleapis.com/tensorflow/tf-keras-datasets/train-images-idx3-ubyte.gz\n",
      "26427392/26421880 [==============================] - 4s 0us/step\n",
      "Downloading data from https://storage.googleapis.com/tensorflow/tf-keras-datasets/t10k-labels-idx1-ubyte.gz\n",
      "8192/5148 [===============================================] - 0s 0us/step\n",
      "Downloading data from https://storage.googleapis.com/tensorflow/tf-keras-datasets/t10k-images-idx3-ubyte.gz\n",
      "4423680/4422102 [==============================] - 1s 0us/step\n"
     ]
    }
   ],
   "source": [
    "# Importing the dataset\n",
    "\"\"\"\n",
    "When loading using keras, every image is represented as 28x28\n",
    "\"\"\"\n",
    "fashion_mnist = keras.datasets.fashion_mnist\n",
    "(X_train_full, y_train_full), (X_test, y_test) = fashion_mnist.load_data()\n"
   ]
  },
  {
   "cell_type": "code",
   "execution_count": 7,
   "metadata": {},
   "outputs": [
    {
     "data": {
      "text/plain": [
       "(60000, 28, 28)"
      ]
     },
     "execution_count": 7,
     "metadata": {},
     "output_type": "execute_result"
    }
   ],
   "source": [
    "X_train_full.shape"
   ]
  },
  {
   "cell_type": "code",
   "execution_count": 8,
   "metadata": {},
   "outputs": [
    {
     "data": {
      "text/plain": [
       "dtype('uint8')"
      ]
     },
     "execution_count": 8,
     "metadata": {},
     "output_type": "execute_result"
    }
   ],
   "source": [
    "X_train_full.dtype"
   ]
  },
  {
   "cell_type": "code",
   "execution_count": 52,
   "metadata": {},
   "outputs": [],
   "source": [
    "# Creating validation and training data\n",
    "# scale pixel intesities in range [0,1]\n",
    "X_valid = X_train_full[:5000] / 255.0\n",
    "X_train = X_train_full[5000:] / 255.0\n",
    "y_valid, y_train = y_train_full[:5000], y_train_full[5000:]\n",
    "\n",
    "class_names = [\"T-shirt/top\", \"Trouser\", \"Pullover\", \"Dress\", \"Coat\", \"Sandal\", \"Shirt\", \"Sneaker\", \"Bag\", \"Ankle Boot\"]\n"
   ]
  },
  {
   "cell_type": "code",
   "execution_count": 53,
   "metadata": {},
   "outputs": [
    {
     "data": {
      "text/plain": [
       "'Coat'"
      ]
     },
     "execution_count": 53,
     "metadata": {},
     "output_type": "execute_result"
    }
   ],
   "source": [
    "class_names[y_train[0]]"
   ]
  },
  {
   "cell_type": "code",
   "execution_count": 24,
   "metadata": {},
   "outputs": [],
   "source": [
    "# Classification MLP with two hidden layers\n",
    "\"\"\"\n",
    "#Create a sequential keras model. (Single stacked layers connected sequentially)\n",
    "model = keras.models.Sequential()\n",
    "#Flatten (input layer) converts input image to 1D array\n",
    "model.add(keras.layers.Flatten(input_shape=[28,28]))\n",
    "#Dense hidden layer with 300 neurons\n",
    "model.add(keras.layers.Dense(300, activation=\"relu\"))\n",
    "#Dense hidden layer with 100 neurons\n",
    "model.add(keras.layers.Dense(100, activation=keras.activations.relu))\n",
    "#Output layer (one neuron per class). USe softmax because classes are exclusive\n",
    "model.add(keras.layers.Dense(10, activation=\"softmax\"))\n",
    "\"\"\"\n",
    "#Alternative way to create model\n",
    "model = keras.models.Sequential([\n",
    "    keras.layers.Flatten(input_shape=[28,28]),\n",
    "    keras.layers.Dense(300, activation = keras.activations.relu),\n",
    "    keras.layers.Dense(100, activation=keras.activations.relu),\n",
    "    keras.layers.Dense(10, activation=\"softmax\")\n",
    "])"
   ]
  },
  {
   "cell_type": "code",
   "execution_count": 54,
   "metadata": {},
   "outputs": [
    {
     "name": "stdout",
     "output_type": "stream",
     "text": [
      "Model: \"sequential_5\"\n",
      "_________________________________________________________________\n",
      "Layer (type)                 Output Shape              Param #   \n",
      "=================================================================\n",
      "flatten_5 (Flatten)          (None, 784)               0         \n",
      "_________________________________________________________________\n",
      "dense_14 (Dense)             (None, 300)               235500    \n",
      "_________________________________________________________________\n",
      "dense_15 (Dense)             (None, 100)               30100     \n",
      "_________________________________________________________________\n",
      "dense_16 (Dense)             (None, 10)                1010      \n",
      "=================================================================\n",
      "Total params: 266,610\n",
      "Trainable params: 266,610\n",
      "Non-trainable params: 0\n",
      "_________________________________________________________________\n"
     ]
    }
   ],
   "source": [
    "model.summary()\n",
    "#None means batch size can be anything"
   ]
  },
  {
   "cell_type": "code",
   "execution_count": 55,
   "metadata": {},
   "outputs": [
    {
     "data": {
      "text/plain": [
       "[<tensorflow.python.keras.layers.core.Flatten at 0x7f85dc33a970>,\n",
       " <tensorflow.python.keras.layers.core.Dense at 0x7f85dc2c0250>,\n",
       " <tensorflow.python.keras.layers.core.Dense at 0x7f85dc2d4070>,\n",
       " <tensorflow.python.keras.layers.core.Dense at 0x7f85dc2dfb80>]"
      ]
     },
     "execution_count": 55,
     "metadata": {},
     "output_type": "execute_result"
    }
   ],
   "source": [
    "model.layers"
   ]
  },
  {
   "cell_type": "code",
   "execution_count": 56,
   "metadata": {},
   "outputs": [
    {
     "data": {
      "text/plain": [
       "True"
      ]
     },
     "execution_count": 56,
     "metadata": {},
     "output_type": "execute_result"
    }
   ],
   "source": [
    "hidden1 = model.layers[1]\n",
    "hidden1.name\n",
    "model.get_layer('dense_14') is hidden1"
   ]
  },
  {
   "cell_type": "code",
   "execution_count": 57,
   "metadata": {},
   "outputs": [],
   "source": [
    "# For hidden layers we can see and set the bias terms and weights\n",
    "weights, biases = hidden1.get_weights()\n"
   ]
  },
  {
   "cell_type": "code",
   "execution_count": 58,
   "metadata": {},
   "outputs": [
    {
     "data": {
      "text/plain": [
       "array([[-0.05453193,  0.06989514, -0.00964206, ..., -0.00912991,\n",
       "        -0.05672371, -0.00618367],\n",
       "       [-0.05539511, -0.04863272, -0.02253133, ...,  0.05308322,\n",
       "         0.01123384,  0.03351155],\n",
       "       [ 0.0156431 , -0.00799336, -0.05950749, ..., -0.03176456,\n",
       "        -0.03956473,  0.02550105],\n",
       "       ...,\n",
       "       [-0.05612304, -0.01449324,  0.05315654, ..., -0.03233705,\n",
       "        -0.0288479 ,  0.00905328],\n",
       "       [ 0.04775838, -0.0404077 , -0.0635916 , ..., -0.05880534,\n",
       "         0.07270932, -0.06247824],\n",
       "       [-0.04311378, -0.06263284,  0.04394564, ..., -0.06931431,\n",
       "        -0.02166294,  0.06888061]], dtype=float32)"
      ]
     },
     "execution_count": 58,
     "metadata": {},
     "output_type": "execute_result"
    }
   ],
   "source": [
    "# Weights are initialised randomly\n",
    "weights"
   ]
  },
  {
   "cell_type": "code",
   "execution_count": 59,
   "metadata": {},
   "outputs": [
    {
     "data": {
      "text/plain": [
       "(784, 300)"
      ]
     },
     "execution_count": 59,
     "metadata": {},
     "output_type": "execute_result"
    }
   ],
   "source": [
    "weights.shape"
   ]
  },
  {
   "cell_type": "code",
   "execution_count": 60,
   "metadata": {},
   "outputs": [
    {
     "data": {
      "text/plain": [
       "array([ 3.34025845e-02,  4.33926098e-03,  2.87752990e-02, -1.48607255e-03,\n",
       "        1.47095975e-02, -3.67453136e-03,  2.02552229e-02, -4.74051991e-03,\n",
       "        1.28644109e-02,  1.93890382e-03, -6.20766124e-03,  1.06483093e-02,\n",
       "        2.46680584e-02,  8.22714623e-03,  9.55136376e-04,  6.66206777e-02,\n",
       "        6.78813900e-04, -8.42672773e-03, -4.18804912e-03,  2.45077498e-02,\n",
       "        3.13377031e-03,  3.60137969e-03, -4.55258461e-03,  5.70895337e-02,\n",
       "        2.03195550e-02,  9.03646834e-03,  5.39973415e-02, -1.15963314e-02,\n",
       "        6.63798419e-05, -1.43903317e-02,  3.05218212e-02,  6.44747391e-02,\n",
       "        1.15309656e-02,  2.69769616e-02,  1.74920708e-02,  1.62650887e-02,\n",
       "        5.10801040e-02, -3.00651998e-03,  2.12481264e-02,  2.73341704e-02,\n",
       "       -1.55681996e-02,  2.73703206e-02,  3.76553671e-03,  4.35544830e-03,\n",
       "        3.38745653e-03, -2.54764315e-02,  9.71588679e-03, -9.07823502e-04,\n",
       "        1.58147700e-02,  2.87056621e-03, -9.20071639e-03,  5.00378711e-03,\n",
       "       -7.07093952e-03,  3.11219133e-02,  1.54382261e-02,  4.09975201e-02,\n",
       "        2.64840610e-02,  2.96350271e-02, -9.12075210e-03, -2.89969379e-03,\n",
       "       -2.51290412e-03, -1.89703573e-02,  1.59410536e-02,  1.42043121e-02,\n",
       "        8.49047676e-03,  1.40921166e-03, -4.51943930e-03, -9.66517627e-03,\n",
       "        3.62795778e-02, -3.36378289e-04,  1.80723853e-02, -1.96917374e-02,\n",
       "        1.77452229e-02,  6.51750015e-03,  7.66240666e-03, -9.25028324e-03,\n",
       "        2.16997899e-02,  2.75301412e-02,  1.50330244e-02, -8.27252027e-03,\n",
       "        1.70111414e-02, -1.11615490e-02, -3.29937041e-03,  1.00979060e-02,\n",
       "        6.57805894e-03, -4.54753591e-03, -8.21363181e-03,  1.17640924e-02,\n",
       "        3.25274393e-02,  9.84724052e-03, -1.81304421e-02,  8.76939967e-02,\n",
       "        6.34540170e-02, -4.76903748e-03,  2.09780186e-02,  1.37985656e-02,\n",
       "        3.80243249e-02,  8.71544238e-03, -3.17221903e-03, -8.75114743e-03,\n",
       "        3.30554671e-04,  1.23271663e-02,  1.26480544e-03,  3.67649421e-02,\n",
       "       -1.67245716e-02, -2.76226401e-02,  5.92640378e-02,  1.88228264e-02,\n",
       "       -1.39810918e-02,  5.10014500e-03,  6.70827106e-02, -2.77498402e-02,\n",
       "       -4.03761864e-03,  2.06940016e-03,  3.40108032e-04, -8.36035144e-03,\n",
       "        3.12915002e-03,  5.87071700e-04,  2.14158222e-02,  3.43752168e-02,\n",
       "        8.92960746e-03,  1.43865822e-02,  8.63972027e-03,  2.77651846e-02,\n",
       "        2.26147380e-03,  7.17375986e-03, -1.36847550e-03, -3.44699174e-02,\n",
       "        2.03331523e-02, -1.78385898e-02,  4.29629255e-03, -3.35764466e-03,\n",
       "        3.55538242e-02,  1.42850364e-02,  1.93824095e-03,  3.43873166e-02,\n",
       "        1.12675754e-02,  1.33629544e-02,  2.88335327e-02,  7.25387037e-03,\n",
       "       -3.01893684e-03,  2.67554931e-02, -2.02387087e-02,  5.49374567e-03,\n",
       "       -1.13530373e-02,  6.25234023e-02, -5.81171876e-03,  1.12801567e-02,\n",
       "       -5.79974754e-03,  6.73616026e-03, -1.26903234e-02, -2.50710826e-03,\n",
       "       -9.69444867e-03,  8.23071506e-03, -2.44639162e-03,  1.46390432e-02,\n",
       "        3.76466215e-02,  2.06540618e-02,  1.54287778e-02,  3.05208210e-02,\n",
       "        1.34878531e-02,  2.93906704e-02,  2.82678462e-04,  9.11459513e-03,\n",
       "        1.51638631e-02, -2.15043183e-02,  6.86398998e-04,  1.34588825e-02,\n",
       "        2.40580793e-02, -2.06425134e-02,  2.25375104e-03, -3.66276130e-02,\n",
       "       -3.26479189e-02,  2.13858904e-03,  1.32161807e-02,  6.18994841e-03,\n",
       "       -1.01747166e-03,  2.94003431e-02,  4.30288315e-02, -3.35517502e-03,\n",
       "       -8.14037677e-03,  8.84126499e-03,  1.61314663e-02, -9.64117236e-04,\n",
       "        1.11328820e-02,  2.46918425e-02,  1.29719982e-02,  3.69192660e-02,\n",
       "        3.47170308e-02,  2.96770222e-02,  1.10678123e-02, -4.31939308e-03,\n",
       "        5.51285734e-03,  8.98929685e-03,  2.00293143e-04, -2.73216292e-02,\n",
       "        9.88550764e-03, -1.14998566e-02,  2.86923703e-02,  1.90858357e-02,\n",
       "       -8.84746574e-03,  6.60611242e-02,  1.43653732e-02,  1.87131297e-02,\n",
       "        2.34463322e-03, -1.74109116e-02,  1.92406401e-02, -2.44582584e-03,\n",
       "        4.74448912e-02, -4.14206926e-03,  2.34546904e-02, -4.35168250e-03,\n",
       "        7.75959634e-04, -4.01877146e-03, -1.47681292e-02,  3.23792957e-02,\n",
       "        8.76946282e-03,  1.54357459e-02,  6.70962129e-03, -2.40417197e-02,\n",
       "        4.01624404e-02, -3.96632925e-02,  4.73642014e-02,  9.07997694e-03,\n",
       "       -3.85981216e-03,  3.10211937e-04, -2.33599008e-03,  4.91382321e-03,\n",
       "       -1.87944882e-02, -1.42679978e-02,  3.24584395e-02, -8.07975885e-04,\n",
       "        1.40813701e-02, -8.34103860e-03,  8.09826422e-03,  4.24709404e-03,\n",
       "       -8.56310315e-03, -4.85585723e-03,  2.89262738e-02, -3.67040522e-02,\n",
       "       -8.72244220e-03,  2.57824194e-02,  2.13947929e-02,  1.40873054e-02,\n",
       "        8.87473579e-03,  8.01612216e-04, -5.49129695e-02,  1.24426316e-02,\n",
       "       -2.44836882e-03, -6.39251387e-03, -1.17650209e-02, -9.60458163e-03,\n",
       "       -7.56425783e-03,  2.11481215e-03,  1.04536926e-02,  1.27750924e-02,\n",
       "        4.26271707e-02,  1.30900983e-02,  2.15715263e-03, -3.14540288e-04,\n",
       "        6.02691062e-03,  2.55270991e-02,  6.29036175e-03,  1.23916501e-02,\n",
       "        9.47210938e-03, -5.44195548e-02,  1.82425082e-02, -6.97794277e-03,\n",
       "       -5.77744376e-03, -1.20096831e-02, -8.10291432e-03, -6.13351399e-03,\n",
       "        3.00334441e-03, -1.40016265e-02,  4.18682769e-03,  2.38404074e-03,\n",
       "        5.05795181e-02, -4.56435233e-03, -1.02288472e-02, -2.86148749e-02,\n",
       "        1.00697894e-02,  2.10706070e-02,  9.50538460e-03,  5.76922996e-03,\n",
       "       -6.89871423e-03,  1.84591045e-03, -3.83760897e-03,  9.26117133e-03,\n",
       "        1.29949441e-02, -2.28600800e-02,  3.27948891e-02,  1.60024292e-03,\n",
       "        9.88585968e-03, -6.36723712e-02,  1.53863728e-02,  2.05083692e-04,\n",
       "       -2.10628863e-02,  1.30701521e-02, -3.64549254e-04,  3.80069986e-02],\n",
       "      dtype=float32)"
      ]
     },
     "execution_count": 60,
     "metadata": {},
     "output_type": "execute_result"
    }
   ],
   "source": [
    "biases"
   ]
  },
  {
   "cell_type": "code",
   "execution_count": 61,
   "metadata": {},
   "outputs": [
    {
     "data": {
      "text/plain": [
       "(300,)"
      ]
     },
     "execution_count": 61,
     "metadata": {},
     "output_type": "execute_result"
    }
   ],
   "source": [
    "biases.shape"
   ]
  },
  {
   "cell_type": "code",
   "execution_count": 62,
   "metadata": {},
   "outputs": [],
   "source": [
    "# Compile the model\n",
    "model.compile(loss=keras.losses.sparse_categorical_crossentropy,\n",
    "             optimizer=keras.optimizers.SGD(lr=0.01),\n",
    "             metrics=[\"accuracy\"])\n",
    "# We used sparce categorical crossentropy because we have sparse labels (target classes 0 to 9) and classes are exclusive\n",
    "# We would use different loss functions depending on type of data\n",
    "# Default value for loss rate (lr) is 0.01\n",
    "# Since this is a classifier its usefull to measure \"accuracy\" during training"
   ]
  },
  {
   "cell_type": "code",
   "execution_count": 63,
   "metadata": {},
   "outputs": [
    {
     "name": "stdout",
     "output_type": "stream",
     "text": [
      "Epoch 1/30\n",
      "1719/1719 [==============================] - 2s 1ms/step - loss: 0.4906 - accuracy: 0.8280 - val_loss: 0.4576 - val_accuracy: 0.8420\n",
      "Epoch 2/30\n",
      "1719/1719 [==============================] - 2s 1ms/step - loss: 0.4448 - accuracy: 0.8442 - val_loss: 0.4399 - val_accuracy: 0.8434\n",
      "Epoch 3/30\n",
      "1719/1719 [==============================] - 2s 1ms/step - loss: 0.4178 - accuracy: 0.8530 - val_loss: 0.4107 - val_accuracy: 0.8586\n",
      "Epoch 4/30\n",
      "1719/1719 [==============================] - 2s 1ms/step - loss: 0.3964 - accuracy: 0.8611 - val_loss: 0.4321 - val_accuracy: 0.8426\n",
      "Epoch 5/30\n",
      "1719/1719 [==============================] - 2s 1ms/step - loss: 0.3811 - accuracy: 0.8660 - val_loss: 0.3738 - val_accuracy: 0.8686\n",
      "Epoch 6/30\n",
      "1719/1719 [==============================] - 2s 1ms/step - loss: 0.3666 - accuracy: 0.8721 - val_loss: 0.3715 - val_accuracy: 0.8724\n",
      "Epoch 7/30\n",
      "1719/1719 [==============================] - 2s 1ms/step - loss: 0.3550 - accuracy: 0.8743 - val_loss: 0.3598 - val_accuracy: 0.8756\n",
      "Epoch 8/30\n",
      "1719/1719 [==============================] - 2s 1ms/step - loss: 0.3445 - accuracy: 0.8781 - val_loss: 0.3559 - val_accuracy: 0.8754\n",
      "Epoch 9/30\n",
      "1719/1719 [==============================] - 2s 1ms/step - loss: 0.3340 - accuracy: 0.8810 - val_loss: 0.3436 - val_accuracy: 0.8770\n",
      "Epoch 10/30\n",
      "1719/1719 [==============================] - 2s 1ms/step - loss: 0.3258 - accuracy: 0.8839 - val_loss: 0.3356 - val_accuracy: 0.8794\n",
      "Epoch 11/30\n",
      "1719/1719 [==============================] - 2s 1ms/step - loss: 0.3178 - accuracy: 0.8862 - val_loss: 0.3331 - val_accuracy: 0.8822\n",
      "Epoch 12/30\n",
      "1719/1719 [==============================] - 2s 1ms/step - loss: 0.3101 - accuracy: 0.8888 - val_loss: 0.3363 - val_accuracy: 0.8810\n",
      "Epoch 13/30\n",
      "1719/1719 [==============================] - 2s 1ms/step - loss: 0.3023 - accuracy: 0.8912 - val_loss: 0.3230 - val_accuracy: 0.8850\n",
      "Epoch 14/30\n",
      "1719/1719 [==============================] - 2s 1ms/step - loss: 0.2965 - accuracy: 0.8941 - val_loss: 0.3693 - val_accuracy: 0.8662\n",
      "Epoch 15/30\n",
      "1719/1719 [==============================] - 2s 1ms/step - loss: 0.2900 - accuracy: 0.8964 - val_loss: 0.3170 - val_accuracy: 0.8870\n",
      "Epoch 16/30\n",
      "1719/1719 [==============================] - 2s 1ms/step - loss: 0.2839 - accuracy: 0.8986 - val_loss: 0.3064 - val_accuracy: 0.8900\n",
      "Epoch 17/30\n",
      "1719/1719 [==============================] - 2s 1ms/step - loss: 0.2783 - accuracy: 0.8995 - val_loss: 0.3240 - val_accuracy: 0.8860\n",
      "Epoch 18/30\n",
      "1719/1719 [==============================] - 2s 1ms/step - loss: 0.2723 - accuracy: 0.9023 - val_loss: 0.3387 - val_accuracy: 0.8776\n",
      "Epoch 19/30\n",
      "1719/1719 [==============================] - 2s 1ms/step - loss: 0.2656 - accuracy: 0.9038 - val_loss: 0.3114 - val_accuracy: 0.8880\n",
      "Epoch 20/30\n",
      "1719/1719 [==============================] - 2s 1ms/step - loss: 0.2621 - accuracy: 0.9042 - val_loss: 0.3046 - val_accuracy: 0.8916\n",
      "Epoch 21/30\n",
      "1719/1719 [==============================] - 2s 1ms/step - loss: 0.2570 - accuracy: 0.9087 - val_loss: 0.3116 - val_accuracy: 0.8852\n",
      "Epoch 22/30\n",
      "1719/1719 [==============================] - 2s 1ms/step - loss: 0.2523 - accuracy: 0.9089 - val_loss: 0.3037 - val_accuracy: 0.8898\n",
      "Epoch 23/30\n",
      "1719/1719 [==============================] - 2s 1ms/step - loss: 0.2487 - accuracy: 0.9105 - val_loss: 0.3060 - val_accuracy: 0.8920\n",
      "Epoch 24/30\n",
      "1719/1719 [==============================] - 2s 1ms/step - loss: 0.2443 - accuracy: 0.9110 - val_loss: 0.2993 - val_accuracy: 0.8922\n",
      "Epoch 25/30\n",
      "1719/1719 [==============================] - 3s 2ms/step - loss: 0.2409 - accuracy: 0.9129 - val_loss: 0.3013 - val_accuracy: 0.8904\n",
      "Epoch 26/30\n",
      "1719/1719 [==============================] - 2s 1ms/step - loss: 0.2364 - accuracy: 0.9142 - val_loss: 0.3163 - val_accuracy: 0.8870\n",
      "Epoch 27/30\n",
      "1719/1719 [==============================] - 2s 1ms/step - loss: 0.2320 - accuracy: 0.9174 - val_loss: 0.3163 - val_accuracy: 0.8886\n",
      "Epoch 28/30\n",
      "1719/1719 [==============================] - 2s 1ms/step - loss: 0.2288 - accuracy: 0.9176 - val_loss: 0.2969 - val_accuracy: 0.8946\n",
      "Epoch 29/30\n",
      "1719/1719 [==============================] - 2s 1ms/step - loss: 0.2245 - accuracy: 0.9191 - val_loss: 0.2895 - val_accuracy: 0.8972\n",
      "Epoch 30/30\n",
      "1719/1719 [==============================] - 2s 1ms/step - loss: 0.2204 - accuracy: 0.9205 - val_loss: 0.2981 - val_accuracy: 0.8924\n"
     ]
    }
   ],
   "source": [
    "# Training the model\n",
    "history = model.fit(X_train, y_train, epochs=30,\n",
    "                   validation_data=(X_valid, y_valid))\n",
    "# We can use validation_split=0.1 as param to validate on 10% data\n",
    "# epochs = # of time learning algorithm will work\n",
    "\n",
    "# Keras displays loss, accuracy after each epoch"
   ]
  },
  {
   "cell_type": "code",
   "execution_count": 66,
   "metadata": {},
   "outputs": [
    {
     "data": {
      "image/png": "[encoded data removed]",
      "text/plain": [
       "<Figure size 576x360 with 1 Axes>"
      ]
     },
     "metadata": {
      "needs_background": "light"
     },
     "output_type": "display_data"
    }
   ],
   "source": [
    "# fit() returns a History object with training params and list of epochs (history.epochs) \n",
    "# And dictionary with loss, ... at each epoch (history.history)\n",
    "# We can plot this\n",
    "import pandas as pd\n",
    "import matplotlib.pyplot as plt\n",
    "pd.DataFrame(history.history).plot(figsize=(8, 5))\n",
    "plt.grid(True)\n",
    "plt.gca().set_ylim(0, 1) # Set vertical range [0, 1]\n",
    "plt.show()\n",
    "# Validation curves are close to training curves ==> not too much overfitting\n",
    "# Using fit again starts where it left off"
   ]
  },
  {
   "cell_type": "code",
   "execution_count": 68,
   "metadata": {},
   "outputs": [
    {
     "name": "stdout",
     "output_type": "stream",
     "text": [
      "313/313 [==============================] - 0s 1ms/step - loss: 68.6139 - accuracy: 0.8418\n"
     ]
    },
    {
     "data": {
      "text/plain": [
       "[68.61393737792969, 0.8417999744415283]"
      ]
     },
     "execution_count": 68,
     "metadata": {},
     "output_type": "execute_result"
    }
   ],
   "source": [
    "# Estimating generalization error\n",
    "model.evaluate(X_test, y_test)"
   ]
  },
  {
   "cell_type": "code",
   "execution_count": 69,
   "metadata": {},
   "outputs": [
    {
     "data": {
      "text/plain": [
       "array([[0., 0., 0., 0., 0., 0., 0., 0., 0., 1.],\n",
       "       [0., 0., 1., 0., 0., 0., 0., 0., 0., 0.],\n",
       "       [0., 1., 0., 0., 0., 0., 0., 0., 0., 0.]], dtype=float32)"
      ]
     },
     "execution_count": 69,
     "metadata": {},
     "output_type": "execute_result"
    }
   ],
   "source": [
    "# Making predictions\n",
    "X_new = X_test[:3]\n",
    "y_prob = model.predict(X_new)\n",
    "y_prob.round(2)"
   ]
  },
  {
   "cell_type": "code",
   "execution_count": 72,
   "metadata": {},
   "outputs": [
    {
     "data": {
      "text/plain": [
       "array(['Ankle Boot', 'Pullover', 'Trouser'], dtype='<U11')"
      ]
     },
     "execution_count": 72,
     "metadata": {},
     "output_type": "execute_result"
    }
   ],
   "source": [
    "import numpy as np\n",
    "y_pred = model.predict_classes(X_new)\n",
    "y_pred\n",
    "np.array(class_names)[y_pred]"
   ]
  }
 ],
 "metadata": {
  "kernelspec": {
   "display_name": "Python 3",
   "language": "python",
   "name": "python3"
  },
  "language_info": {
   "codemirror_mode": {
    "name": "ipython",
    "version": 3
   },
   "file_extension": ".py",
   "mimetype": "text/x-python",
   "name": "python",
   "nbconvert_exporter": "python",
   "pygments_lexer": "ipython3",
   "version": "3.8.5"
  }
 },
 "nbformat": 4,
 "nbformat_minor": 4
}
